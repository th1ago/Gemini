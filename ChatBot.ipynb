{
  "nbformat": 4,
  "nbformat_minor": 0,
  "metadata": {
    "colab": {
      "provenance": [],
      "toc_visible": true,
      "authorship_tag": "ABX9TyPopUdTSFHtFHqod4bsRR93",
      "include_colab_link": true
    },
    "kernelspec": {
      "name": "python3",
      "display_name": "Python 3"
    },
    "language_info": {
      "name": "python"
    }
  },
  "cells": [
    {
      "cell_type": "markdown",
      "metadata": {
        "id": "view-in-github",
        "colab_type": "text"
      },
      "source": [
        "<a href=\"https://colab.research.google.com/github/th1ago/Gemini/blob/main/ChatBot.ipynb\" target=\"_parent\"><img src=\"https://colab.research.google.com/assets/colab-badge.svg\" alt=\"Open In Colab\"/></a>"
      ]
    },
    {
      "cell_type": "markdown",
      "source": [
        "# Depressao\n",
        "\n",
        "## Ministério da Saúde\n",
        "\n",
        "É um problema médico grave e altamente prevalente na população em geral. De acordo com estudo epidemiológico a prevalência de depressão ao longo da vida no Brasil está em torno de 15,5%. Segundo a OMS, a prevalência de depressão na rede de atenção primária de saúde é 10,4%, isoladamente ou associada a um transtorno físico.\n",
        "\n",
        "De acordo com a OMS, a depressão situa-se em 4º lugar entre as principais causas de ônus, respondendo por 4,4% dos ônus acarretados por todas as doenças durante a vida. Ocupa 1º lugar quando considerado o tempo vivido com incapacitação ao longo da vida (11,9%). A época comum do aparecimento é o final da 3ª década da vida, mas pode começar em qualquer idade."
      ],
      "metadata": {
        "id": "V68W56UTZSgH"
      }
    },
    {
      "cell_type": "markdown",
      "source": [
        "# Instalando o SDK"
      ],
      "metadata": {
        "id": "Hd5xoJvM9xZV"
      }
    },
    {
      "cell_type": "code",
      "execution_count": 1,
      "metadata": {
        "id": "PjcaqOB-9rhH"
      },
      "outputs": [],
      "source": [
        "!pip install -q -U google-generativeai"
      ]
    },
    {
      "cell_type": "markdown",
      "source": [
        "# Instrucoes sobre o Gemini API\n",
        "Para utlizar o Gemini API, voce precisa de uma API key. Caso nao tenha uma, crie a chave no Google AI Studio"
      ],
      "metadata": {
        "id": "S5Q6ElbsGX0U"
      }
    },
    {
      "cell_type": "code",
      "source": [
        "import google.generativeai as genai\n",
        "from google.colab import userdata\n"
      ],
      "metadata": {
        "id": "kj_12AJo8SPE"
      },
      "execution_count": 29,
      "outputs": []
    },
    {
      "cell_type": "code",
      "source": [
        "GOOGLE_API_KEY=userdata.get('GOOGLE_API_KEY')\n",
        "genai.configure(api_key=GOOGLE_API_KEY)"
      ],
      "metadata": {
        "id": "drqak9kl96NB"
      },
      "execution_count": 30,
      "outputs": []
    },
    {
      "cell_type": "markdown",
      "source": [
        "# Iniciando o Generative Model"
      ],
      "metadata": {
        "id": "d_YicffOGq74"
      }
    },
    {
      "cell_type": "code",
      "source": [
        "model = genai.GenerativeModel('gemini-pro')"
      ],
      "metadata": {
        "id": "RdwrWaqYGoxO"
      },
      "execution_count": 12,
      "outputs": []
    },
    {
      "cell_type": "markdown",
      "source": [
        "# Gerando o texto"
      ],
      "metadata": {
        "id": "JnRf-AARG1tQ"
      }
    },
    {
      "cell_type": "code",
      "source": [
        "response = model.generate_content(\"De acordo com a Organização Mundial de Saúde(OMS) quais formas de prevenir a depressão?\")\n",
        "print(response.text)"
      ],
      "metadata": {
        "id": "hNwXj824G5MV",
        "colab": {
          "base_uri": "https://localhost:8080/",
          "height": 225
        },
        "outputId": "5ce7ef52-c050-468f-9753-36809142cb42"
      },
      "execution_count": 13,
      "outputs": [
        {
          "output_type": "stream",
          "name": "stdout",
          "text": [
            "**Formas de Prevenir a Depressão Segundo a OMS:**\n",
            "\n",
            "* **Exercício físico regular:** Pelo menos 30 minutos de exercícios moderados na maioria dos dias da semana.\n",
            "* **Alimentação saudável:** Uma dieta rica em frutas, vegetais, grãos integrais e peixes pode apoiar o bem-estar mental.\n",
            "* **Sono suficiente:** A maioria dos adultos precisa de 7 a 9 horas de sono por noite.\n",
            "* **Técnicas de enfrentamento saudáveis:** Aprender a lidar com o estresse e as emoções negativas por meio de técnicas como atenção plena, yoga ou terapia.\n",
            "* **Conexões sociais positivas:** Manter relacionamentos sólidos com familiares, amigos e colegas pode fornecer apoio e um senso de pertencimento.\n",
            "* **Ajudar os outros:** Envolver-se em atividades de voluntariado ou ajudar outras pessoas pode fortalecer o senso de propósito e realização.\n",
            "* **Evitar o uso de álcool e drogas:** O abuso de substâncias pode agravar os sintomas da depressão.\n",
            "* **Exposição à luz:** A exposição à luz solar pode melhorar o humor e regular os ritmos circadianos.\n",
            "* **Evitar comportamentos de risco:** Evitar atividades que podem resultar em lesões ou sofrimento pode ajudar a prevenir a depressão causada por eventos negativos.\n",
            "* **Reconhecer os sinais:** Estar ciente dos sinais iniciais da depressão e procurar ajuda profissional se necessário pode prevenir a progressão para uma depressão mais grave.\n"
          ]
        }
      ]
    },
    {
      "cell_type": "markdown",
      "source": [
        "# Configuracoes"
      ],
      "metadata": {
        "id": "gexyvFZB_fut"
      }
    },
    {
      "cell_type": "code",
      "source": [
        "generation_config = {\n",
        "    \"candidate_count\": 1,\n",
        "    \"temperature\": 0.5\n",
        "}"
      ],
      "metadata": {
        "id": "NG7pr-WF_eoa"
      },
      "execution_count": 10,
      "outputs": []
    },
    {
      "cell_type": "markdown",
      "source": [
        "# Configuracoes de Seguranca"
      ],
      "metadata": {
        "id": "u6NbqcBn_2e8"
      }
    },
    {
      "cell_type": "code",
      "source": [
        "safety_settings = [\n",
        "  {\n",
        "    \"category\": \"HARM_CATEGORY_HARASSMENT\",\n",
        "    \"threshold\": \"BLOCK_MEDIUM_AND_ABOVE\"\n",
        "  },\n",
        "  {\n",
        "    \"category\": \"HARM_CATEGORY_HATE_SPEECH\",\n",
        "    \"threshold\": \"BLOCK_MEDIUM_AND_ABOVE\"\n",
        "  },\n",
        "  {\n",
        "    \"category\": \"HARM_CATEGORY_SEXUALLY_EXPLICIT\",\n",
        "    \"threshold\": \"BLOCK_MEDIUM_AND_ABOVE\"\n",
        "  },\n",
        "  {\n",
        "    \"category\": \"HARM_CATEGORY_DANGEROUS_CONTENT\",\n",
        "    \"threshold\": \"BLOCK_MEDIUM_AND_ABOVE\"\n",
        "  },\n",
        "]"
      ],
      "metadata": {
        "id": "e9Ih4WpA_9Jb"
      },
      "execution_count": 22,
      "outputs": []
    },
    {
      "cell_type": "code",
      "source": [
        "model = genai.GenerativeModel(model_name=\"gemini-1.0-pro\",generation_config = generation_config, safety_settings = safety_settings)"
      ],
      "metadata": {
        "id": "RL53llGcNmpk"
      },
      "execution_count": 23,
      "outputs": []
    },
    {
      "cell_type": "markdown",
      "source": [
        "# Desenvolvendo o ChatBot"
      ],
      "metadata": {
        "id": "wocVcY7gPDfp"
      }
    },
    {
      "cell_type": "code",
      "source": [
        "chat = model.start_chat(history=[])"
      ],
      "metadata": {
        "id": "LyRNoaC5OFBk"
      },
      "execution_count": 24,
      "outputs": []
    },
    {
      "cell_type": "code",
      "source": [
        "prompt = input(\"Insira o prompt: \")\n",
        "\n",
        "while prompt != \"fim\":\n",
        "  response = chat.send_message(prompt)\n",
        "  print(\"Responsta: \", response.text, \"\\n\")\n",
        "  prompt = input(\"Insira o prompt: \")"
      ],
      "metadata": {
        "colab": {
          "base_uri": "https://localhost:8080/",
          "height": 694
        },
        "id": "eYi6xJxiO-Zn",
        "outputId": "4c265dc6-d142-48d4-969c-bff4d8d9e476"
      },
      "execution_count": 19,
      "outputs": [
        {
          "name": "stdout",
          "output_type": "stream",
          "text": [
            "Insira o prompt: Quais são os sintomas da depressão?\n",
            "Responsta:  **Sintomas Emocionais:**\n",
            "\n",
            "* Tristeza persistente ou vazio\n",
            "* Perda de interesse ou prazer em atividades outrora agradáveis\n",
            "* Sentimentos de desesperança ou inutilidade\n",
            "* Culpa ou baixa autoestima\n",
            "* Irritabilidade ou agitação\n",
            "* Ansiedade ou inquietação\n",
            "\n",
            "**Sintomas Físicos:**\n",
            "\n",
            "* Fadiga ou falta de energia\n",
            "* Alterações no apetite ou peso\n",
            "* Problemas de sono (insônia ou sonolência excessiva)\n",
            "* Dores ou desconfortos inexplicáveis\n",
            "* Diminuição da libido\n",
            "\n",
            "**Sintomas Cognitivos:**\n",
            "\n",
            "* Dificuldade de concentração ou tomada de decisão\n",
            "* Memória prejudicada\n",
            "* Pensamentos negativos ou pessimistas\n",
            "* Ideias suicidas ou de automutilação\n",
            "\n",
            "**Outros Sintomas:**\n",
            "\n",
            "* Isolamento social\n",
            "* Diminuição da produtividade no trabalho ou na escola\n",
            "* Abuso de substâncias\n",
            "* Pensamentos ou comportamentos autodestrutivos\n",
            "\n",
            "**É importante observar que:**\n",
            "\n",
            "* Nem todos os sintomas estão presentes em todas as pessoas com depressão.\n",
            "* A gravidade dos sintomas pode variar de leve a grave.\n",
            "* A depressão é uma condição tratável e procurar ajuda profissional é crucial para o gerenciamento eficaz. \n",
            "\n",
            "Insira o prompt: fim\n"
          ]
        }
      ]
    },
    {
      "cell_type": "markdown",
      "source": [
        "#Melhorando a visualização"
      ],
      "metadata": {
        "id": "GScIapWQRpWY"
      }
    },
    {
      "cell_type": "code",
      "source": [
        "import textwrap\n",
        "from IPython.display import display\n",
        "from IPython.display import Markdown\n",
        "\n",
        "def to_markdown(text):\n",
        "  text = text.replace('•', '  *')\n",
        "  return Markdown(textwrap.indent(text, '> ', predicate=lambda _: True))\n",
        "\n",
        "#Imprimindo o histórico\n",
        "for message in chat.history:\n",
        "  display(to_markdown(f'**{message.role}**: {message.parts[0].text}'))\n",
        "  print('-------------------------------------------')"
      ],
      "metadata": {
        "colab": {
          "base_uri": "https://localhost:8080/",
          "height": 1000
        },
        "id": "nVi-ftfJRLo_",
        "outputId": "4e41cf45-07c8-48fd-ca02-905866b78c76"
      },
      "execution_count": 28,
      "outputs": [
        {
          "output_type": "display_data",
          "data": {
            "text/plain": [
              "<IPython.core.display.Markdown object>"
            ],
            "text/markdown": "> **user**: Onde procurar ajuda sobre depressão?"
          },
          "metadata": {}
        },
        {
          "output_type": "stream",
          "name": "stdout",
          "text": [
            "-------------------------------------------\n"
          ]
        },
        {
          "output_type": "display_data",
          "data": {
            "text/plain": [
              "<IPython.core.display.Markdown object>"
            ],
            "text/markdown": "> **model**: **Profissionais de saúde mental:**\n> \n> * **Psiquiatras:** Médicos especializados em diagnosticar e tratar transtornos mentais, incluindo depressão.\n> * **Psicólogos:** Profissionais de saúde mental com doutorado que podem fornecer psicoterapia e outros tratamentos para depressão.\n> * **Terapeutas:** Profissionais de saúde mental licenciados que podem fornecer psicoterapia, como terapia cognitivo-comportamental (TCC) ou terapia interpessoal (IPT).\n> \n> **Recursos online:**\n> \n> * **National Suicide Prevention Lifeline:** 1-800-273-8255\n> * **Crisis Text Line:** Envie uma mensagem de texto \"HOME\" para 741741\n> * **The Jed Foundation:** https://www.jedfoundation.org/\n> * **American Foundation for Suicide Prevention:** https://afsp.org/\n> * **National Alliance on Mental Illness (NAMI):** https://www.nami.org/\n> \n> **Grupos de apoio:**\n> \n> * **Grupos de apoio para depressão:** Fornecem um espaço seguro para compartilhar experiências, oferecer apoio e aprender sobre estratégias de enfrentamento.\n> * **Grupos de apoio online:** Conectam pessoas com depressão de todo o mundo.\n> * **Grupos de apoio para familiares e amigos de pessoas com depressão:** Oferecem apoio e recursos para aqueles que amam alguém com depressão.\n> \n> **Outros recursos:**\n> \n> * **Linha de ajuda do seu seguro de saúde:** Pode fornecer informações sobre profissionais de saúde mental na sua rede.\n> * **Clínicas de saúde comunitárias:** Muitas oferecem serviços de saúde mental a baixo custo ou gratuitos.\n> * **Universidades e faculdades:** Podem ter centros de aconselhamento que oferecem serviços de saúde mental para estudantes.\n> * **Instituições religiosas:** Algumas igrejas e sinagogas oferecem aconselhamento ou grupos de apoio para pessoas com depressão."
          },
          "metadata": {}
        },
        {
          "output_type": "stream",
          "name": "stdout",
          "text": [
            "-------------------------------------------\n"
          ]
        },
        {
          "output_type": "display_data",
          "data": {
            "text/plain": [
              "<IPython.core.display.Markdown object>"
            ],
            "text/markdown": "> **user**: Onde procurar ajuda sobre depressão? No Brasil"
          },
          "metadata": {}
        },
        {
          "output_type": "stream",
          "name": "stdout",
          "text": [
            "-------------------------------------------\n"
          ]
        },
        {
          "output_type": "display_data",
          "data": {
            "text/plain": [
              "<IPython.core.display.Markdown object>"
            ],
            "text/markdown": "> **model**: **Profissionais de saúde mental no Brasil:**\n> \n> * **Psiquiatras:** Médicos especializados em diagnosticar e tratar transtornos mentais, incluindo depressão.\n> * **Psicólogos:** Profissionais de saúde mental com mestrado ou doutorado que podem fornecer psicoterapia e outros tratamentos para depressão.\n> * **Terapeutas:** Profissionais de saúde mental com formação em psicoterapia, como terapia cognitivo-comportamental (TCC) ou terapia interpessoal (IPT).\n> \n> **Recursos online no Brasil:**\n> \n> * **Centro de Valorização da Vida (CVV):** 188 (24 horas por dia, 7 dias por semana)\n> * **Ministério da Saúde - Saúde Mental:** https://www.gov.br/saude/pt-br/composicao/secretarias/saps/saude-mental\n> * **Associação Brasileira de Psiquiatria (ABP):** https://www.abp.org.br/\n> * **Associação Brasileira de Psicologia (ABP):** https://www.abp.org.br/\n> \n> **Grupos de apoio no Brasil:**\n> \n> * **Associação Brasileira de Familiares, Amigos e Portadores de Transtornos Afetivos (ABRATA):** https://www.abrata.org.br/\n> * **Associação Brasileira de Depressão (ABDE):** https://www.depressao.org.br/\n> * **Grupo de Apoio à Depressão (GAD):** https://www.gad.org.br/\n> \n> **Outros recursos no Brasil:**\n> \n> * **SUS (Sistema Único de Saúde):** Oferece serviços de saúde mental gratuitos ou a baixo custo em postos de saúde e hospitais públicos.\n> * **Universidades e faculdades:** Podem ter centros de aconselhamento que oferecem serviços de saúde mental para estudantes.\n> * **Instituições religiosas:** Algumas igrejas e templos oferecem aconselhamento ou grupos de apoio para pessoas com depressão.\n> \n> **Lembre-se:** Buscar ajuda para depressão é um sinal de força, não de fraqueza. Não hesite em entrar em contato com um profissional de saúde mental ou outro recurso se estiver enfrentando sintomas de depressão."
          },
          "metadata": {}
        },
        {
          "output_type": "stream",
          "name": "stdout",
          "text": [
            "-------------------------------------------\n"
          ]
        }
      ]
    },
    {
      "cell_type": "code",
      "source": [
        "prompt = input(\"Insira o prompt: \")\n",
        "\n",
        "while prompt != \"fim\":\n",
        "  response = chat.send_message(prompt)\n",
        "  print(\"Responsta: \", response.text, \"\\n\")\n",
        "  prompt = input(\"Insira o prompt: \")"
      ],
      "metadata": {
        "colab": {
          "base_uri": "https://localhost:8080/",
          "height": 520
        },
        "id": "c9DM21lESGgB",
        "outputId": "47ded4e8-23f9-4baa-ce37-f053ff974eb9"
      },
      "execution_count": 27,
      "outputs": [
        {
          "name": "stdout",
          "output_type": "stream",
          "text": [
            "Insira o prompt: Onde procurar ajuda sobre depressão? No Brasil\n",
            "Responsta:  **Profissionais de saúde mental no Brasil:**\n",
            "\n",
            "* **Psiquiatras:** Médicos especializados em diagnosticar e tratar transtornos mentais, incluindo depressão.\n",
            "* **Psicólogos:** Profissionais de saúde mental com mestrado ou doutorado que podem fornecer psicoterapia e outros tratamentos para depressão.\n",
            "* **Terapeutas:** Profissionais de saúde mental com formação em psicoterapia, como terapia cognitivo-comportamental (TCC) ou terapia interpessoal (IPT).\n",
            "\n",
            "**Recursos online no Brasil:**\n",
            "\n",
            "* **Centro de Valorização da Vida (CVV):** 188 (24 horas por dia, 7 dias por semana)\n",
            "* **Ministério da Saúde - Saúde Mental:** https://www.gov.br/saude/pt-br/composicao/secretarias/saps/saude-mental\n",
            "* **Associação Brasileira de Psiquiatria (ABP):** https://www.abp.org.br/\n",
            "* **Associação Brasileira de Psicologia (ABP):** https://www.abp.org.br/\n",
            "\n",
            "**Grupos de apoio no Brasil:**\n",
            "\n",
            "* **Associação Brasileira de Familiares, Amigos e Portadores de Transtornos Afetivos (ABRATA):** https://www.abrata.org.br/\n",
            "* **Associação Brasileira de Depressão (ABDE):** https://www.depressao.org.br/\n",
            "* **Grupo de Apoio à Depressão (GAD):** https://www.gad.org.br/\n",
            "\n",
            "**Outros recursos no Brasil:**\n",
            "\n",
            "* **SUS (Sistema Único de Saúde):** Oferece serviços de saúde mental gratuitos ou a baixo custo em postos de saúde e hospitais públicos.\n",
            "* **Universidades e faculdades:** Podem ter centros de aconselhamento que oferecem serviços de saúde mental para estudantes.\n",
            "* **Instituições religiosas:** Algumas igrejas e templos oferecem aconselhamento ou grupos de apoio para pessoas com depressão.\n",
            "\n",
            "**Lembre-se:** Buscar ajuda para depressão é um sinal de força, não de fraqueza. Não hesite em entrar em contato com um profissional de saúde mental ou outro recurso se estiver enfrentando sintomas de depressão. \n",
            "\n",
            "Insira o prompt: fim\n"
          ]
        }
      ]
    }
  ]
}